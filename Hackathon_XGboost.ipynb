{
 "cells": [
  {
   "cell_type": "code",
   "execution_count": 206,
   "metadata": {
    "colab": {},
    "colab_type": "code",
    "id": "5JjS59y4-JYO"
   },
   "outputs": [],
   "source": [
    "import pandas as pd\n",
    "import numpy as np\n",
    "import matplotlib.pyplot as plt\n",
    "import seaborn as sns\n",
    "from sklearn.model_selection import train_test_split\n",
    "\n",
    "from sklearn.preprocessing import LabelEncoder\n",
    "\n",
    "from sklearn.utils import resample\n",
    "from xgboost import XGBClassifier\n",
    "from catboost import CatBoostClassifier\n",
    "\n",
    "from sklearn.ensemble import RandomForestClassifier\n",
    "from sklearn.model_selection import GridSearchCV\n",
    "from sklearn.metrics import accuracy_score\n",
    "\n",
    "import warnings\n",
    "%matplotlib inline"
   ]
  },
  {
   "cell_type": "markdown",
   "metadata": {},
   "source": [
    "# Data upload"
   ]
  },
  {
   "cell_type": "code",
   "execution_count": 207,
   "metadata": {
    "colab": {
     "base_uri": "https://localhost:8080/",
     "height": 344,
     "resources": {
      "http://localhost:8080/nbextensions/google.colab/files.js": {
       "data": "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",
       "headers": [
        [
         "content-type",
         "application/javascript"
        ]
       ],
       "ok": true,
       "status": 200,
       "status_text": ""
      }
     }
    },
    "colab_type": "code",
    "id": "IswuZID4-SIG",
    "outputId": "6a857033-a0a1-4cab-88ff-2e8909633241"
   },
   "outputs": [],
   "source": [
    "# from google.colab import files\n",
    "# files.upload()"
   ]
  },
  {
   "cell_type": "code",
   "execution_count": 208,
   "metadata": {
    "colab": {},
    "colab_type": "code",
    "id": "iFhWJ0hn-JYT"
   },
   "outputs": [],
   "source": [
    "train = pd.read_csv('train_8wry4cB.csv')\n",
    "test = pd.read_csv('test_Yix80N0.csv')\n",
    "sub = pd.read_csv('sample_submission_opxHi4g.csv')"
   ]
  },
  {
   "cell_type": "code",
   "execution_count": 209,
   "metadata": {
    "colab": {
     "base_uri": "https://localhost:8080/",
     "height": 106
    },
    "colab_type": "code",
    "id": "MhSsrNi1-JYW",
    "outputId": "a29391ad-12f0-4576-ba3d-a91d58bbd3d4"
   },
   "outputs": [
    {
     "data": {
      "text/html": [
       "<div>\n",
       "<style scoped>\n",
       "    .dataframe tbody tr th:only-of-type {\n",
       "        vertical-align: middle;\n",
       "    }\n",
       "\n",
       "    .dataframe tbody tr th {\n",
       "        vertical-align: top;\n",
       "    }\n",
       "\n",
       "    .dataframe thead th {\n",
       "        text-align: right;\n",
       "    }\n",
       "</style>\n",
       "<table border=\"1\" class=\"dataframe\">\n",
       "  <thead>\n",
       "    <tr style=\"text-align: right;\">\n",
       "      <th></th>\n",
       "      <th>session_id</th>\n",
       "      <th>startTime</th>\n",
       "      <th>endTime</th>\n",
       "      <th>ProductList</th>\n",
       "      <th>gender</th>\n",
       "    </tr>\n",
       "  </thead>\n",
       "  <tbody>\n",
       "    <tr>\n",
       "      <td>0</td>\n",
       "      <td>u16159</td>\n",
       "      <td>15/12/14 18:11</td>\n",
       "      <td>15/12/14 18:12</td>\n",
       "      <td>A00002/B00003/C00006/D28435/;A00002/B00003/C00...</td>\n",
       "      <td>female</td>\n",
       "    </tr>\n",
       "    <tr>\n",
       "      <td>1</td>\n",
       "      <td>u10253</td>\n",
       "      <td>16/12/14 14:35</td>\n",
       "      <td>16/12/14 14:41</td>\n",
       "      <td>A00001/B00009/C00031/D29404/;A00001/B00009/C00...</td>\n",
       "      <td>male</td>\n",
       "    </tr>\n",
       "  </tbody>\n",
       "</table>\n",
       "</div>"
      ],
      "text/plain": [
       "  session_id       startTime         endTime  \\\n",
       "0     u16159  15/12/14 18:11  15/12/14 18:12   \n",
       "1     u10253  16/12/14 14:35  16/12/14 14:41   \n",
       "\n",
       "                                         ProductList  gender  \n",
       "0  A00002/B00003/C00006/D28435/;A00002/B00003/C00...  female  \n",
       "1  A00001/B00009/C00031/D29404/;A00001/B00009/C00...    male  "
      ]
     },
     "execution_count": 209,
     "metadata": {},
     "output_type": "execute_result"
    }
   ],
   "source": [
    "train.head(2)"
   ]
  },
  {
   "cell_type": "code",
   "execution_count": 210,
   "metadata": {
    "colab": {
     "base_uri": "https://localhost:8080/",
     "height": 106
    },
    "colab_type": "code",
    "id": "NUrBWu1y-JYa",
    "outputId": "6d435c76-f6f6-4e59-aa57-4dba1b3a4024"
   },
   "outputs": [
    {
     "data": {
      "text/html": [
       "<div>\n",
       "<style scoped>\n",
       "    .dataframe tbody tr th:only-of-type {\n",
       "        vertical-align: middle;\n",
       "    }\n",
       "\n",
       "    .dataframe tbody tr th {\n",
       "        vertical-align: top;\n",
       "    }\n",
       "\n",
       "    .dataframe thead th {\n",
       "        text-align: right;\n",
       "    }\n",
       "</style>\n",
       "<table border=\"1\" class=\"dataframe\">\n",
       "  <thead>\n",
       "    <tr style=\"text-align: right;\">\n",
       "      <th></th>\n",
       "      <th>session_id</th>\n",
       "      <th>startTime</th>\n",
       "      <th>endTime</th>\n",
       "      <th>ProductList</th>\n",
       "    </tr>\n",
       "  </thead>\n",
       "  <tbody>\n",
       "    <tr>\n",
       "      <td>0</td>\n",
       "      <td>u12112</td>\n",
       "      <td>08/12/14 13:36</td>\n",
       "      <td>08/12/14 13:36</td>\n",
       "      <td>A00002/B00003/C00006/D19956/</td>\n",
       "    </tr>\n",
       "    <tr>\n",
       "      <td>1</td>\n",
       "      <td>u19725</td>\n",
       "      <td>19/12/14 13:52</td>\n",
       "      <td>19/12/14 13:52</td>\n",
       "      <td>A00002/B00005/C00067/D02026/</td>\n",
       "    </tr>\n",
       "  </tbody>\n",
       "</table>\n",
       "</div>"
      ],
      "text/plain": [
       "  session_id       startTime         endTime                   ProductList\n",
       "0     u12112  08/12/14 13:36  08/12/14 13:36  A00002/B00003/C00006/D19956/\n",
       "1     u19725  19/12/14 13:52  19/12/14 13:52  A00002/B00005/C00067/D02026/"
      ]
     },
     "execution_count": 210,
     "metadata": {},
     "output_type": "execute_result"
    }
   ],
   "source": [
    "test.head(2)"
   ]
  },
  {
   "cell_type": "code",
   "execution_count": 211,
   "metadata": {
    "colab": {
     "base_uri": "https://localhost:8080/",
     "height": 34
    },
    "colab_type": "code",
    "id": "3H3WuTwq-JYg",
    "outputId": "6f9ff40f-ce65-457c-ea6b-216c8829b90e"
   },
   "outputs": [],
   "source": [
    "train['label']='train'\n",
    "test['label']='test'\n",
    "full_data = pd.concat([train,test],sort=False)"
   ]
  },
  {
   "cell_type": "code",
   "execution_count": 212,
   "metadata": {},
   "outputs": [
    {
     "data": {
      "text/plain": [
       "((10500, 6), (4500, 5), (15000, 6))"
      ]
     },
     "execution_count": 212,
     "metadata": {},
     "output_type": "execute_result"
    }
   ],
   "source": [
    "train.shape, test.shape, full_data.shape"
   ]
  },
  {
   "cell_type": "code",
   "execution_count": 213,
   "metadata": {
    "colab": {},
    "colab_type": "code",
    "id": "36_ecIsy-JYj"
   },
   "outputs": [],
   "source": [
    "full_data.reset_index(inplace=True)\n",
    "\n",
    "full_data.drop('index',axis=1,inplace=True)"
   ]
  },
  {
   "cell_type": "markdown",
   "metadata": {},
   "source": [
    "# Feature Engineering "
   ]
  },
  {
   "cell_type": "code",
   "execution_count": 214,
   "metadata": {
    "colab": {},
    "colab_type": "code",
    "id": "vSD_mqw1-JYp"
   },
   "outputs": [],
   "source": [
    "full_data['Product_Number'] = full_data['ProductList'].apply(lambda x: len(x.split(';')))"
   ]
  },
  {
   "cell_type": "code",
   "execution_count": 215,
   "metadata": {
    "colab": {
     "base_uri": "https://localhost:8080/",
     "height": 195
    },
    "colab_type": "code",
    "id": "tyE9sPmv-JYs",
    "outputId": "fca0b2e5-986c-49ef-cb00-b1be9536d2b2"
   },
   "outputs": [
    {
     "data": {
      "text/html": [
       "<div>\n",
       "<style scoped>\n",
       "    .dataframe tbody tr th:only-of-type {\n",
       "        vertical-align: middle;\n",
       "    }\n",
       "\n",
       "    .dataframe tbody tr th {\n",
       "        vertical-align: top;\n",
       "    }\n",
       "\n",
       "    .dataframe thead th {\n",
       "        text-align: right;\n",
       "    }\n",
       "</style>\n",
       "<table border=\"1\" class=\"dataframe\">\n",
       "  <thead>\n",
       "    <tr style=\"text-align: right;\">\n",
       "      <th></th>\n",
       "      <th>session_id</th>\n",
       "      <th>startTime</th>\n",
       "      <th>endTime</th>\n",
       "      <th>ProductList</th>\n",
       "      <th>gender</th>\n",
       "      <th>label</th>\n",
       "      <th>Product_Number</th>\n",
       "    </tr>\n",
       "  </thead>\n",
       "  <tbody>\n",
       "    <tr>\n",
       "      <td>0</td>\n",
       "      <td>u16159</td>\n",
       "      <td>15/12/14 18:11</td>\n",
       "      <td>15/12/14 18:12</td>\n",
       "      <td>A00002/B00003/C00006/D28435/;A00002/B00003/C00...</td>\n",
       "      <td>female</td>\n",
       "      <td>train</td>\n",
       "      <td>4</td>\n",
       "    </tr>\n",
       "    <tr>\n",
       "      <td>1</td>\n",
       "      <td>u10253</td>\n",
       "      <td>16/12/14 14:35</td>\n",
       "      <td>16/12/14 14:41</td>\n",
       "      <td>A00001/B00009/C00031/D29404/;A00001/B00009/C00...</td>\n",
       "      <td>male</td>\n",
       "      <td>train</td>\n",
       "      <td>7</td>\n",
       "    </tr>\n",
       "    <tr>\n",
       "      <td>2</td>\n",
       "      <td>u19037</td>\n",
       "      <td>01/12/14 15:58</td>\n",
       "      <td>01/12/14 15:58</td>\n",
       "      <td>A00002/B00001/C00020/D16944/</td>\n",
       "      <td>female</td>\n",
       "      <td>train</td>\n",
       "      <td>1</td>\n",
       "    </tr>\n",
       "    <tr>\n",
       "      <td>3</td>\n",
       "      <td>u14556</td>\n",
       "      <td>23/11/14 2:57</td>\n",
       "      <td>23/11/14 3:00</td>\n",
       "      <td>A00002/B00004/C00018/D10284/;A00002/B00004/C00...</td>\n",
       "      <td>female</td>\n",
       "      <td>train</td>\n",
       "      <td>3</td>\n",
       "    </tr>\n",
       "    <tr>\n",
       "      <td>4</td>\n",
       "      <td>u24295</td>\n",
       "      <td>17/12/14 16:44</td>\n",
       "      <td>17/12/14 16:46</td>\n",
       "      <td>A00001/B00001/C00012/D30805/;A00001/B00001/C00...</td>\n",
       "      <td>male</td>\n",
       "      <td>train</td>\n",
       "      <td>2</td>\n",
       "    </tr>\n",
       "  </tbody>\n",
       "</table>\n",
       "</div>"
      ],
      "text/plain": [
       "  session_id       startTime         endTime  \\\n",
       "0     u16159  15/12/14 18:11  15/12/14 18:12   \n",
       "1     u10253  16/12/14 14:35  16/12/14 14:41   \n",
       "2     u19037  01/12/14 15:58  01/12/14 15:58   \n",
       "3     u14556   23/11/14 2:57   23/11/14 3:00   \n",
       "4     u24295  17/12/14 16:44  17/12/14 16:46   \n",
       "\n",
       "                                         ProductList  gender  label  \\\n",
       "0  A00002/B00003/C00006/D28435/;A00002/B00003/C00...  female  train   \n",
       "1  A00001/B00009/C00031/D29404/;A00001/B00009/C00...    male  train   \n",
       "2                       A00002/B00001/C00020/D16944/  female  train   \n",
       "3  A00002/B00004/C00018/D10284/;A00002/B00004/C00...  female  train   \n",
       "4  A00001/B00001/C00012/D30805/;A00001/B00001/C00...    male  train   \n",
       "\n",
       "   Product_Number  \n",
       "0               4  \n",
       "1               7  \n",
       "2               1  \n",
       "3               3  \n",
       "4               2  "
      ]
     },
     "execution_count": 215,
     "metadata": {},
     "output_type": "execute_result"
    }
   ],
   "source": [
    "full_data.head()"
   ]
  },
  {
   "cell_type": "code",
   "execution_count": 216,
   "metadata": {},
   "outputs": [
    {
     "data": {
      "text/plain": [
       "session_id        15000\n",
       "startTime         15000\n",
       "endTime           15000\n",
       "ProductList       15000\n",
       "gender            10500\n",
       "label             15000\n",
       "Product_Number    15000\n",
       "dtype: int64"
      ]
     },
     "execution_count": 216,
     "metadata": {},
     "output_type": "execute_result"
    }
   ],
   "source": [
    "full_data.count()"
   ]
  },
  {
   "cell_type": "code",
   "execution_count": 217,
   "metadata": {},
   "outputs": [],
   "source": [
    "full_data_2=pd.DataFrame()\n",
    "m=[]\n",
    "for i in range(len(full_data)):\n",
    "    a=full_data.iloc[[i]]\n",
    "    arr=full_data.iloc[i]['ProductList'].split(';')\n",
    "    for j in range(len(arr)):\n",
    "        full_data_2=full_data_2.append(a)\n",
    "        m.append(arr[j])\n",
    "full_data_2['ProductList']=m"
   ]
  },
  {
   "cell_type": "code",
   "execution_count": 218,
   "metadata": {
    "colab": {
     "base_uri": "https://localhost:8080/",
     "height": 195
    },
    "colab_type": "code",
    "id": "mm1qMOhg-JY5",
    "outputId": "9b96c9a0-580e-4b65-e42f-cd4c5da38ad9"
   },
   "outputs": [
    {
     "data": {
      "text/html": [
       "<div>\n",
       "<style scoped>\n",
       "    .dataframe tbody tr th:only-of-type {\n",
       "        vertical-align: middle;\n",
       "    }\n",
       "\n",
       "    .dataframe tbody tr th {\n",
       "        vertical-align: top;\n",
       "    }\n",
       "\n",
       "    .dataframe thead th {\n",
       "        text-align: right;\n",
       "    }\n",
       "</style>\n",
       "<table border=\"1\" class=\"dataframe\">\n",
       "  <thead>\n",
       "    <tr style=\"text-align: right;\">\n",
       "      <th></th>\n",
       "      <th>session_id</th>\n",
       "      <th>startTime</th>\n",
       "      <th>endTime</th>\n",
       "      <th>ProductList</th>\n",
       "      <th>gender</th>\n",
       "      <th>label</th>\n",
       "      <th>Product_Number</th>\n",
       "    </tr>\n",
       "  </thead>\n",
       "  <tbody>\n",
       "    <tr>\n",
       "      <td>0</td>\n",
       "      <td>u16159</td>\n",
       "      <td>15/12/14 18:11</td>\n",
       "      <td>15/12/14 18:12</td>\n",
       "      <td>A00002/B00003/C00006/D28435/</td>\n",
       "      <td>female</td>\n",
       "      <td>train</td>\n",
       "      <td>4</td>\n",
       "    </tr>\n",
       "    <tr>\n",
       "      <td>0</td>\n",
       "      <td>u16159</td>\n",
       "      <td>15/12/14 18:11</td>\n",
       "      <td>15/12/14 18:12</td>\n",
       "      <td>A00002/B00003/C00006/D02554/</td>\n",
       "      <td>female</td>\n",
       "      <td>train</td>\n",
       "      <td>4</td>\n",
       "    </tr>\n",
       "    <tr>\n",
       "      <td>0</td>\n",
       "      <td>u16159</td>\n",
       "      <td>15/12/14 18:11</td>\n",
       "      <td>15/12/14 18:12</td>\n",
       "      <td>A00002/B00003/C00006/D28436/</td>\n",
       "      <td>female</td>\n",
       "      <td>train</td>\n",
       "      <td>4</td>\n",
       "    </tr>\n",
       "    <tr>\n",
       "      <td>0</td>\n",
       "      <td>u16159</td>\n",
       "      <td>15/12/14 18:11</td>\n",
       "      <td>15/12/14 18:12</td>\n",
       "      <td>A00002/B00003/C00006/D28437/</td>\n",
       "      <td>female</td>\n",
       "      <td>train</td>\n",
       "      <td>4</td>\n",
       "    </tr>\n",
       "    <tr>\n",
       "      <td>1</td>\n",
       "      <td>u10253</td>\n",
       "      <td>16/12/14 14:35</td>\n",
       "      <td>16/12/14 14:41</td>\n",
       "      <td>A00001/B00009/C00031/D29404/</td>\n",
       "      <td>male</td>\n",
       "      <td>train</td>\n",
       "      <td>7</td>\n",
       "    </tr>\n",
       "  </tbody>\n",
       "</table>\n",
       "</div>"
      ],
      "text/plain": [
       "  session_id       startTime         endTime                   ProductList  \\\n",
       "0     u16159  15/12/14 18:11  15/12/14 18:12  A00002/B00003/C00006/D28435/   \n",
       "0     u16159  15/12/14 18:11  15/12/14 18:12  A00002/B00003/C00006/D02554/   \n",
       "0     u16159  15/12/14 18:11  15/12/14 18:12  A00002/B00003/C00006/D28436/   \n",
       "0     u16159  15/12/14 18:11  15/12/14 18:12  A00002/B00003/C00006/D28437/   \n",
       "1     u10253  16/12/14 14:35  16/12/14 14:41  A00001/B00009/C00031/D29404/   \n",
       "\n",
       "   gender  label  Product_Number  \n",
       "0  female  train               4  \n",
       "0  female  train               4  \n",
       "0  female  train               4  \n",
       "0  female  train               4  \n",
       "1    male  train               7  "
      ]
     },
     "execution_count": 218,
     "metadata": {},
     "output_type": "execute_result"
    }
   ],
   "source": [
    "full_data_2.head()"
   ]
  },
  {
   "cell_type": "code",
   "execution_count": 219,
   "metadata": {
    "colab": {
     "base_uri": "https://localhost:8080/",
     "height": 151
    },
    "colab_type": "code",
    "id": "M7mTZYck-JY7",
    "outputId": "2feda2c3-9fa1-438b-9146-251546704818"
   },
   "outputs": [
    {
     "data": {
      "text/plain": [
       "session_id        33455\n",
       "startTime         33455\n",
       "endTime           33455\n",
       "ProductList       33455\n",
       "gender            23251\n",
       "label             33455\n",
       "Product_Number    33455\n",
       "dtype: int64"
      ]
     },
     "execution_count": 219,
     "metadata": {},
     "output_type": "execute_result"
    }
   ],
   "source": [
    "full_data_2.count()"
   ]
  },
  {
   "cell_type": "code",
   "execution_count": 220,
   "metadata": {
    "colab": {
     "base_uri": "https://localhost:8080/",
     "height": 151
    },
    "colab_type": "code",
    "id": "9TxPB2rr-JY9",
    "outputId": "9c052243-372b-4b32-db3e-41d86c0d1152"
   },
   "outputs": [
    {
     "data": {
      "text/plain": [
       "session_id            0\n",
       "startTime             0\n",
       "endTime               0\n",
       "ProductList           0\n",
       "gender            10204\n",
       "label                 0\n",
       "Product_Number        0\n",
       "dtype: int64"
      ]
     },
     "execution_count": 220,
     "metadata": {},
     "output_type": "execute_result"
    }
   ],
   "source": [
    "full_data_2.isnull().sum()"
   ]
  },
  {
   "cell_type": "code",
   "execution_count": 221,
   "metadata": {},
   "outputs": [],
   "source": [
    "full_data_2.fillna(0,inplace=True)"
   ]
  },
  {
   "cell_type": "code",
   "execution_count": 222,
   "metadata": {},
   "outputs": [
    {
     "data": {
      "text/plain": [
       "session_id        0\n",
       "startTime         0\n",
       "endTime           0\n",
       "ProductList       0\n",
       "gender            0\n",
       "label             0\n",
       "Product_Number    0\n",
       "dtype: int64"
      ]
     },
     "execution_count": 222,
     "metadata": {},
     "output_type": "execute_result"
    }
   ],
   "source": [
    "full_data_2.isnull().sum()"
   ]
  },
  {
   "cell_type": "code",
   "execution_count": 223,
   "metadata": {
    "colab": {},
    "colab_type": "code",
    "id": "nvWiI-9to3DT"
   },
   "outputs": [],
   "source": [
    "full_data_2['startTime'] = pd.to_datetime(full_data_2['startTime'], format='%d/%m/%y %H:%M')\n",
    "full_data_2['endTime'] = pd.to_datetime(full_data_2['endTime'], format='%d/%m/%y %H:%M')\n",
    "full_data_2['Duration'] = full_data_2['endTime'] - full_data_2['startTime'] \n",
    "full_data_2['Duration'] = full_data_2['Duration'].astype('timedelta64[m]')"
   ]
  },
  {
   "cell_type": "code",
   "execution_count": 224,
   "metadata": {
    "colab": {
     "base_uri": "https://localhost:8080/",
     "height": 195
    },
    "colab_type": "code",
    "id": "LSapVh3O-JZD",
    "outputId": "739e0235-194d-445b-b5e5-da1405da1050"
   },
   "outputs": [
    {
     "data": {
      "text/html": [
       "<div>\n",
       "<style scoped>\n",
       "    .dataframe tbody tr th:only-of-type {\n",
       "        vertical-align: middle;\n",
       "    }\n",
       "\n",
       "    .dataframe tbody tr th {\n",
       "        vertical-align: top;\n",
       "    }\n",
       "\n",
       "    .dataframe thead th {\n",
       "        text-align: right;\n",
       "    }\n",
       "</style>\n",
       "<table border=\"1\" class=\"dataframe\">\n",
       "  <thead>\n",
       "    <tr style=\"text-align: right;\">\n",
       "      <th></th>\n",
       "      <th>session_id</th>\n",
       "      <th>startTime</th>\n",
       "      <th>endTime</th>\n",
       "      <th>ProductList</th>\n",
       "      <th>gender</th>\n",
       "      <th>label</th>\n",
       "      <th>Product_Number</th>\n",
       "      <th>Duration</th>\n",
       "    </tr>\n",
       "  </thead>\n",
       "  <tbody>\n",
       "    <tr>\n",
       "      <td>0</td>\n",
       "      <td>u16159</td>\n",
       "      <td>2014-12-15 18:11:00</td>\n",
       "      <td>2014-12-15 18:12:00</td>\n",
       "      <td>A00002/B00003/C00006/D28435/</td>\n",
       "      <td>female</td>\n",
       "      <td>train</td>\n",
       "      <td>4</td>\n",
       "      <td>1.0</td>\n",
       "    </tr>\n",
       "    <tr>\n",
       "      <td>0</td>\n",
       "      <td>u16159</td>\n",
       "      <td>2014-12-15 18:11:00</td>\n",
       "      <td>2014-12-15 18:12:00</td>\n",
       "      <td>A00002/B00003/C00006/D02554/</td>\n",
       "      <td>female</td>\n",
       "      <td>train</td>\n",
       "      <td>4</td>\n",
       "      <td>1.0</td>\n",
       "    </tr>\n",
       "    <tr>\n",
       "      <td>0</td>\n",
       "      <td>u16159</td>\n",
       "      <td>2014-12-15 18:11:00</td>\n",
       "      <td>2014-12-15 18:12:00</td>\n",
       "      <td>A00002/B00003/C00006/D28436/</td>\n",
       "      <td>female</td>\n",
       "      <td>train</td>\n",
       "      <td>4</td>\n",
       "      <td>1.0</td>\n",
       "    </tr>\n",
       "    <tr>\n",
       "      <td>0</td>\n",
       "      <td>u16159</td>\n",
       "      <td>2014-12-15 18:11:00</td>\n",
       "      <td>2014-12-15 18:12:00</td>\n",
       "      <td>A00002/B00003/C00006/D28437/</td>\n",
       "      <td>female</td>\n",
       "      <td>train</td>\n",
       "      <td>4</td>\n",
       "      <td>1.0</td>\n",
       "    </tr>\n",
       "    <tr>\n",
       "      <td>1</td>\n",
       "      <td>u10253</td>\n",
       "      <td>2014-12-16 14:35:00</td>\n",
       "      <td>2014-12-16 14:41:00</td>\n",
       "      <td>A00001/B00009/C00031/D29404/</td>\n",
       "      <td>male</td>\n",
       "      <td>train</td>\n",
       "      <td>7</td>\n",
       "      <td>6.0</td>\n",
       "    </tr>\n",
       "  </tbody>\n",
       "</table>\n",
       "</div>"
      ],
      "text/plain": [
       "  session_id           startTime             endTime  \\\n",
       "0     u16159 2014-12-15 18:11:00 2014-12-15 18:12:00   \n",
       "0     u16159 2014-12-15 18:11:00 2014-12-15 18:12:00   \n",
       "0     u16159 2014-12-15 18:11:00 2014-12-15 18:12:00   \n",
       "0     u16159 2014-12-15 18:11:00 2014-12-15 18:12:00   \n",
       "1     u10253 2014-12-16 14:35:00 2014-12-16 14:41:00   \n",
       "\n",
       "                    ProductList  gender  label  Product_Number  Duration  \n",
       "0  A00002/B00003/C00006/D28435/  female  train               4       1.0  \n",
       "0  A00002/B00003/C00006/D02554/  female  train               4       1.0  \n",
       "0  A00002/B00003/C00006/D28436/  female  train               4       1.0  \n",
       "0  A00002/B00003/C00006/D28437/  female  train               4       1.0  \n",
       "1  A00001/B00009/C00031/D29404/    male  train               7       6.0  "
      ]
     },
     "execution_count": 224,
     "metadata": {},
     "output_type": "execute_result"
    }
   ],
   "source": [
    "full_data_2.head()"
   ]
  },
  {
   "cell_type": "code",
   "execution_count": 225,
   "metadata": {
    "colab": {},
    "colab_type": "code",
    "id": "9gr5CqHt-JZx"
   },
   "outputs": [],
   "source": [
    "full_data_2['hour']=full_data_2['startTime'].apply(lambda x:x.hour)\n",
    "full_data_2['month']=full_data_2['startTime'].apply(lambda x:x.month)\n",
    "full_data_2['weekday']=full_data_2['startTime'].apply(lambda x:x.weekday())\n",
    "full_data_2['day']=full_data_2['startTime'].apply(lambda x:x.day)"
   ]
  },
  {
   "cell_type": "code",
   "execution_count": 226,
   "metadata": {
    "colab": {
     "base_uri": "https://localhost:8080/",
     "height": 195
    },
    "colab_type": "code",
    "id": "XmnTFPBu-JZy",
    "outputId": "164dc5a6-54b0-4787-8be0-034527d99432"
   },
   "outputs": [
    {
     "data": {
      "text/html": [
       "<div>\n",
       "<style scoped>\n",
       "    .dataframe tbody tr th:only-of-type {\n",
       "        vertical-align: middle;\n",
       "    }\n",
       "\n",
       "    .dataframe tbody tr th {\n",
       "        vertical-align: top;\n",
       "    }\n",
       "\n",
       "    .dataframe thead th {\n",
       "        text-align: right;\n",
       "    }\n",
       "</style>\n",
       "<table border=\"1\" class=\"dataframe\">\n",
       "  <thead>\n",
       "    <tr style=\"text-align: right;\">\n",
       "      <th></th>\n",
       "      <th>session_id</th>\n",
       "      <th>startTime</th>\n",
       "      <th>endTime</th>\n",
       "      <th>ProductList</th>\n",
       "      <th>gender</th>\n",
       "      <th>label</th>\n",
       "      <th>Product_Number</th>\n",
       "      <th>Duration</th>\n",
       "      <th>hour</th>\n",
       "      <th>month</th>\n",
       "      <th>weekday</th>\n",
       "      <th>day</th>\n",
       "    </tr>\n",
       "  </thead>\n",
       "  <tbody>\n",
       "    <tr>\n",
       "      <td>0</td>\n",
       "      <td>u16159</td>\n",
       "      <td>2014-12-15 18:11:00</td>\n",
       "      <td>2014-12-15 18:12:00</td>\n",
       "      <td>A00002/B00003/C00006/D28435/</td>\n",
       "      <td>female</td>\n",
       "      <td>train</td>\n",
       "      <td>4</td>\n",
       "      <td>1.0</td>\n",
       "      <td>18</td>\n",
       "      <td>12</td>\n",
       "      <td>0</td>\n",
       "      <td>15</td>\n",
       "    </tr>\n",
       "    <tr>\n",
       "      <td>0</td>\n",
       "      <td>u16159</td>\n",
       "      <td>2014-12-15 18:11:00</td>\n",
       "      <td>2014-12-15 18:12:00</td>\n",
       "      <td>A00002/B00003/C00006/D02554/</td>\n",
       "      <td>female</td>\n",
       "      <td>train</td>\n",
       "      <td>4</td>\n",
       "      <td>1.0</td>\n",
       "      <td>18</td>\n",
       "      <td>12</td>\n",
       "      <td>0</td>\n",
       "      <td>15</td>\n",
       "    </tr>\n",
       "    <tr>\n",
       "      <td>0</td>\n",
       "      <td>u16159</td>\n",
       "      <td>2014-12-15 18:11:00</td>\n",
       "      <td>2014-12-15 18:12:00</td>\n",
       "      <td>A00002/B00003/C00006/D28436/</td>\n",
       "      <td>female</td>\n",
       "      <td>train</td>\n",
       "      <td>4</td>\n",
       "      <td>1.0</td>\n",
       "      <td>18</td>\n",
       "      <td>12</td>\n",
       "      <td>0</td>\n",
       "      <td>15</td>\n",
       "    </tr>\n",
       "    <tr>\n",
       "      <td>0</td>\n",
       "      <td>u16159</td>\n",
       "      <td>2014-12-15 18:11:00</td>\n",
       "      <td>2014-12-15 18:12:00</td>\n",
       "      <td>A00002/B00003/C00006/D28437/</td>\n",
       "      <td>female</td>\n",
       "      <td>train</td>\n",
       "      <td>4</td>\n",
       "      <td>1.0</td>\n",
       "      <td>18</td>\n",
       "      <td>12</td>\n",
       "      <td>0</td>\n",
       "      <td>15</td>\n",
       "    </tr>\n",
       "    <tr>\n",
       "      <td>1</td>\n",
       "      <td>u10253</td>\n",
       "      <td>2014-12-16 14:35:00</td>\n",
       "      <td>2014-12-16 14:41:00</td>\n",
       "      <td>A00001/B00009/C00031/D29404/</td>\n",
       "      <td>male</td>\n",
       "      <td>train</td>\n",
       "      <td>7</td>\n",
       "      <td>6.0</td>\n",
       "      <td>14</td>\n",
       "      <td>12</td>\n",
       "      <td>1</td>\n",
       "      <td>16</td>\n",
       "    </tr>\n",
       "  </tbody>\n",
       "</table>\n",
       "</div>"
      ],
      "text/plain": [
       "  session_id           startTime             endTime  \\\n",
       "0     u16159 2014-12-15 18:11:00 2014-12-15 18:12:00   \n",
       "0     u16159 2014-12-15 18:11:00 2014-12-15 18:12:00   \n",
       "0     u16159 2014-12-15 18:11:00 2014-12-15 18:12:00   \n",
       "0     u16159 2014-12-15 18:11:00 2014-12-15 18:12:00   \n",
       "1     u10253 2014-12-16 14:35:00 2014-12-16 14:41:00   \n",
       "\n",
       "                    ProductList  gender  label  Product_Number  Duration  \\\n",
       "0  A00002/B00003/C00006/D28435/  female  train               4       1.0   \n",
       "0  A00002/B00003/C00006/D02554/  female  train               4       1.0   \n",
       "0  A00002/B00003/C00006/D28436/  female  train               4       1.0   \n",
       "0  A00002/B00003/C00006/D28437/  female  train               4       1.0   \n",
       "1  A00001/B00009/C00031/D29404/    male  train               7       6.0   \n",
       "\n",
       "   hour  month  weekday  day  \n",
       "0    18     12        0   15  \n",
       "0    18     12        0   15  \n",
       "0    18     12        0   15  \n",
       "0    18     12        0   15  \n",
       "1    14     12        1   16  "
      ]
     },
     "execution_count": 226,
     "metadata": {},
     "output_type": "execute_result"
    }
   ],
   "source": [
    "full_data_2.head()"
   ]
  },
  {
   "cell_type": "code",
   "execution_count": 227,
   "metadata": {
    "colab": {},
    "colab_type": "code",
    "id": "pD5FVLNG-JZ1"
   },
   "outputs": [],
   "source": [
    "bin_labels_5 = ['Winter', 'Spring', 'Summer', 'Fall']\n",
    "full_data_2['season'] = pd.cut(full_data_2['month'],bins=[1,2, 5,8,11],labels=bin_labels_5)"
   ]
  },
  {
   "cell_type": "code",
   "execution_count": 228,
   "metadata": {
    "colab": {},
    "colab_type": "code",
    "id": "Evm9sfyH-JZ3"
   },
   "outputs": [],
   "source": [
    "full_data_2=full_data_2.fillna('Winter')"
   ]
  },
  {
   "cell_type": "code",
   "execution_count": 229,
   "metadata": {
    "colab": {
     "base_uri": "https://localhost:8080/",
     "height": 195
    },
    "colab_type": "code",
    "id": "UTVg3aqe-JZ6",
    "outputId": "cd6058ed-e2bb-43d9-cbbc-022fc02661fe"
   },
   "outputs": [
    {
     "data": {
      "text/html": [
       "<div>\n",
       "<style scoped>\n",
       "    .dataframe tbody tr th:only-of-type {\n",
       "        vertical-align: middle;\n",
       "    }\n",
       "\n",
       "    .dataframe tbody tr th {\n",
       "        vertical-align: top;\n",
       "    }\n",
       "\n",
       "    .dataframe thead th {\n",
       "        text-align: right;\n",
       "    }\n",
       "</style>\n",
       "<table border=\"1\" class=\"dataframe\">\n",
       "  <thead>\n",
       "    <tr style=\"text-align: right;\">\n",
       "      <th></th>\n",
       "      <th>session_id</th>\n",
       "      <th>startTime</th>\n",
       "      <th>endTime</th>\n",
       "      <th>ProductList</th>\n",
       "      <th>gender</th>\n",
       "      <th>label</th>\n",
       "      <th>Product_Number</th>\n",
       "      <th>Duration</th>\n",
       "      <th>hour</th>\n",
       "      <th>month</th>\n",
       "      <th>weekday</th>\n",
       "      <th>day</th>\n",
       "      <th>season</th>\n",
       "    </tr>\n",
       "  </thead>\n",
       "  <tbody>\n",
       "    <tr>\n",
       "      <td>0</td>\n",
       "      <td>u16159</td>\n",
       "      <td>2014-12-15 18:11:00</td>\n",
       "      <td>2014-12-15 18:12:00</td>\n",
       "      <td>A00002/B00003/C00006/D28435/</td>\n",
       "      <td>female</td>\n",
       "      <td>train</td>\n",
       "      <td>4</td>\n",
       "      <td>1.0</td>\n",
       "      <td>18</td>\n",
       "      <td>12</td>\n",
       "      <td>0</td>\n",
       "      <td>15</td>\n",
       "      <td>Winter</td>\n",
       "    </tr>\n",
       "    <tr>\n",
       "      <td>0</td>\n",
       "      <td>u16159</td>\n",
       "      <td>2014-12-15 18:11:00</td>\n",
       "      <td>2014-12-15 18:12:00</td>\n",
       "      <td>A00002/B00003/C00006/D02554/</td>\n",
       "      <td>female</td>\n",
       "      <td>train</td>\n",
       "      <td>4</td>\n",
       "      <td>1.0</td>\n",
       "      <td>18</td>\n",
       "      <td>12</td>\n",
       "      <td>0</td>\n",
       "      <td>15</td>\n",
       "      <td>Winter</td>\n",
       "    </tr>\n",
       "    <tr>\n",
       "      <td>0</td>\n",
       "      <td>u16159</td>\n",
       "      <td>2014-12-15 18:11:00</td>\n",
       "      <td>2014-12-15 18:12:00</td>\n",
       "      <td>A00002/B00003/C00006/D28436/</td>\n",
       "      <td>female</td>\n",
       "      <td>train</td>\n",
       "      <td>4</td>\n",
       "      <td>1.0</td>\n",
       "      <td>18</td>\n",
       "      <td>12</td>\n",
       "      <td>0</td>\n",
       "      <td>15</td>\n",
       "      <td>Winter</td>\n",
       "    </tr>\n",
       "    <tr>\n",
       "      <td>0</td>\n",
       "      <td>u16159</td>\n",
       "      <td>2014-12-15 18:11:00</td>\n",
       "      <td>2014-12-15 18:12:00</td>\n",
       "      <td>A00002/B00003/C00006/D28437/</td>\n",
       "      <td>female</td>\n",
       "      <td>train</td>\n",
       "      <td>4</td>\n",
       "      <td>1.0</td>\n",
       "      <td>18</td>\n",
       "      <td>12</td>\n",
       "      <td>0</td>\n",
       "      <td>15</td>\n",
       "      <td>Winter</td>\n",
       "    </tr>\n",
       "    <tr>\n",
       "      <td>1</td>\n",
       "      <td>u10253</td>\n",
       "      <td>2014-12-16 14:35:00</td>\n",
       "      <td>2014-12-16 14:41:00</td>\n",
       "      <td>A00001/B00009/C00031/D29404/</td>\n",
       "      <td>male</td>\n",
       "      <td>train</td>\n",
       "      <td>7</td>\n",
       "      <td>6.0</td>\n",
       "      <td>14</td>\n",
       "      <td>12</td>\n",
       "      <td>1</td>\n",
       "      <td>16</td>\n",
       "      <td>Winter</td>\n",
       "    </tr>\n",
       "  </tbody>\n",
       "</table>\n",
       "</div>"
      ],
      "text/plain": [
       "  session_id           startTime             endTime  \\\n",
       "0     u16159 2014-12-15 18:11:00 2014-12-15 18:12:00   \n",
       "0     u16159 2014-12-15 18:11:00 2014-12-15 18:12:00   \n",
       "0     u16159 2014-12-15 18:11:00 2014-12-15 18:12:00   \n",
       "0     u16159 2014-12-15 18:11:00 2014-12-15 18:12:00   \n",
       "1     u10253 2014-12-16 14:35:00 2014-12-16 14:41:00   \n",
       "\n",
       "                    ProductList  gender  label  Product_Number  Duration  \\\n",
       "0  A00002/B00003/C00006/D28435/  female  train               4       1.0   \n",
       "0  A00002/B00003/C00006/D02554/  female  train               4       1.0   \n",
       "0  A00002/B00003/C00006/D28436/  female  train               4       1.0   \n",
       "0  A00002/B00003/C00006/D28437/  female  train               4       1.0   \n",
       "1  A00001/B00009/C00031/D29404/    male  train               7       6.0   \n",
       "\n",
       "   hour  month  weekday  day  season  \n",
       "0    18     12        0   15  Winter  \n",
       "0    18     12        0   15  Winter  \n",
       "0    18     12        0   15  Winter  \n",
       "0    18     12        0   15  Winter  \n",
       "1    14     12        1   16  Winter  "
      ]
     },
     "execution_count": 229,
     "metadata": {},
     "output_type": "execute_result"
    }
   ],
   "source": [
    "full_data_2.head()"
   ]
  },
  {
   "cell_type": "code",
   "execution_count": 230,
   "metadata": {
    "colab": {},
    "colab_type": "code",
    "id": "ObsIQvkx-JaA"
   },
   "outputs": [],
   "source": [
    "bin_labels_3 = ['beg', 'mid', 'end']\n",
    "full_data_2['month_time'] = pd.cut(full_data_2['month'],bins=[0,7,24,31],labels=bin_labels_3)"
   ]
  },
  {
   "cell_type": "code",
   "execution_count": 231,
   "metadata": {
    "colab": {},
    "colab_type": "code",
    "id": "OQyZjqso-JaH"
   },
   "outputs": [],
   "source": [
    "bin_labels_2 = ['weekdays', 'weekend']\n",
    "full_data_2['week_time'] = pd.cut(full_data_2['weekday'],bins=[-1,4,6],labels=bin_labels_2)"
   ]
  },
  {
   "cell_type": "code",
   "execution_count": 232,
   "metadata": {
    "colab": {
     "base_uri": "https://localhost:8080/",
     "height": 106
    },
    "colab_type": "code",
    "id": "H3-LDmKG-JaQ",
    "outputId": "d90f5fda-898c-47d0-fc22-bdabbe06374f"
   },
   "outputs": [
    {
     "data": {
      "text/html": [
       "<div>\n",
       "<style scoped>\n",
       "    .dataframe tbody tr th:only-of-type {\n",
       "        vertical-align: middle;\n",
       "    }\n",
       "\n",
       "    .dataframe tbody tr th {\n",
       "        vertical-align: top;\n",
       "    }\n",
       "\n",
       "    .dataframe thead th {\n",
       "        text-align: right;\n",
       "    }\n",
       "</style>\n",
       "<table border=\"1\" class=\"dataframe\">\n",
       "  <thead>\n",
       "    <tr style=\"text-align: right;\">\n",
       "      <th></th>\n",
       "      <th>session_id</th>\n",
       "      <th>startTime</th>\n",
       "      <th>endTime</th>\n",
       "      <th>ProductList</th>\n",
       "      <th>gender</th>\n",
       "      <th>label</th>\n",
       "      <th>Product_Number</th>\n",
       "      <th>Duration</th>\n",
       "      <th>hour</th>\n",
       "      <th>month</th>\n",
       "      <th>weekday</th>\n",
       "      <th>day</th>\n",
       "      <th>season</th>\n",
       "      <th>month_time</th>\n",
       "      <th>week_time</th>\n",
       "    </tr>\n",
       "  </thead>\n",
       "  <tbody>\n",
       "    <tr>\n",
       "      <td>0</td>\n",
       "      <td>u16159</td>\n",
       "      <td>2014-12-15 18:11:00</td>\n",
       "      <td>2014-12-15 18:12:00</td>\n",
       "      <td>A00002/B00003/C00006/D28435/</td>\n",
       "      <td>female</td>\n",
       "      <td>train</td>\n",
       "      <td>4</td>\n",
       "      <td>1.0</td>\n",
       "      <td>18</td>\n",
       "      <td>12</td>\n",
       "      <td>0</td>\n",
       "      <td>15</td>\n",
       "      <td>Winter</td>\n",
       "      <td>mid</td>\n",
       "      <td>weekdays</td>\n",
       "    </tr>\n",
       "    <tr>\n",
       "      <td>0</td>\n",
       "      <td>u16159</td>\n",
       "      <td>2014-12-15 18:11:00</td>\n",
       "      <td>2014-12-15 18:12:00</td>\n",
       "      <td>A00002/B00003/C00006/D02554/</td>\n",
       "      <td>female</td>\n",
       "      <td>train</td>\n",
       "      <td>4</td>\n",
       "      <td>1.0</td>\n",
       "      <td>18</td>\n",
       "      <td>12</td>\n",
       "      <td>0</td>\n",
       "      <td>15</td>\n",
       "      <td>Winter</td>\n",
       "      <td>mid</td>\n",
       "      <td>weekdays</td>\n",
       "    </tr>\n",
       "  </tbody>\n",
       "</table>\n",
       "</div>"
      ],
      "text/plain": [
       "  session_id           startTime             endTime  \\\n",
       "0     u16159 2014-12-15 18:11:00 2014-12-15 18:12:00   \n",
       "0     u16159 2014-12-15 18:11:00 2014-12-15 18:12:00   \n",
       "\n",
       "                    ProductList  gender  label  Product_Number  Duration  \\\n",
       "0  A00002/B00003/C00006/D28435/  female  train               4       1.0   \n",
       "0  A00002/B00003/C00006/D02554/  female  train               4       1.0   \n",
       "\n",
       "   hour  month  weekday  day  season month_time week_time  \n",
       "0    18     12        0   15  Winter        mid  weekdays  \n",
       "0    18     12        0   15  Winter        mid  weekdays  "
      ]
     },
     "execution_count": 232,
     "metadata": {},
     "output_type": "execute_result"
    }
   ],
   "source": [
    "full_data_2.head(2)"
   ]
  },
  {
   "cell_type": "code",
   "execution_count": 233,
   "metadata": {
    "colab": {},
    "colab_type": "code",
    "id": "CYpoVcb_-JaS"
   },
   "outputs": [],
   "source": [
    "full_data_2.insert(5,'A_product',full_data_2['ProductList'])\n",
    "full_data_2.insert(6,'B_product',full_data_2['ProductList'])\n",
    "full_data_2.insert(7,'C_product',full_data_2['ProductList'])\n",
    "full_data_2.insert(8,'D_product',full_data_2['ProductList'])"
   ]
  },
  {
   "cell_type": "code",
   "execution_count": 234,
   "metadata": {
    "colab": {},
    "colab_type": "code",
    "id": "w2cUm662-JaT"
   },
   "outputs": [],
   "source": [
    "full_data_2['A_product'] = full_data_2['ProductList'].apply(lambda x:x.split('/')[0])\n",
    "full_data_2['B_product'] = full_data_2['ProductList'].apply(lambda x:x.split('/')[1])\n",
    "full_data_2['C_product'] = full_data_2['ProductList'].apply(lambda x:x.split('/')[2])\n",
    "full_data_2['D_product'] = full_data_2['ProductList'].apply(lambda x:x.split('/')[3])"
   ]
  },
  {
   "cell_type": "code",
   "execution_count": 235,
   "metadata": {
    "colab": {
     "base_uri": "https://localhost:8080/",
     "height": 34
    },
    "colab_type": "code",
    "id": "Fg0yfzYz-JaU",
    "outputId": "36082555-4ec5-4791-bb70-517b71039570"
   },
   "outputs": [
    {
     "name": "stdout",
     "output_type": "stream",
     "text": [
      "11 86 383 21880\n"
     ]
    }
   ],
   "source": [
    "a=full_data_2['A_product'].nunique()\n",
    "b=full_data_2['B_product'].nunique()\n",
    "c=full_data_2['C_product'].nunique()\n",
    "d=full_data_2['D_product'].nunique()\n",
    "print(a,b,c,d)"
   ]
  },
  {
   "cell_type": "code",
   "execution_count": 236,
   "metadata": {},
   "outputs": [
    {
     "data": {
      "text/html": [
       "<div>\n",
       "<style scoped>\n",
       "    .dataframe tbody tr th:only-of-type {\n",
       "        vertical-align: middle;\n",
       "    }\n",
       "\n",
       "    .dataframe tbody tr th {\n",
       "        vertical-align: top;\n",
       "    }\n",
       "\n",
       "    .dataframe thead th {\n",
       "        text-align: right;\n",
       "    }\n",
       "</style>\n",
       "<table border=\"1\" class=\"dataframe\">\n",
       "  <thead>\n",
       "    <tr style=\"text-align: right;\">\n",
       "      <th></th>\n",
       "      <th>session_id</th>\n",
       "      <th>startTime</th>\n",
       "      <th>endTime</th>\n",
       "      <th>ProductList</th>\n",
       "      <th>gender</th>\n",
       "      <th>A_product</th>\n",
       "      <th>B_product</th>\n",
       "      <th>C_product</th>\n",
       "      <th>D_product</th>\n",
       "      <th>label</th>\n",
       "      <th>Product_Number</th>\n",
       "      <th>Duration</th>\n",
       "      <th>hour</th>\n",
       "      <th>month</th>\n",
       "      <th>weekday</th>\n",
       "      <th>day</th>\n",
       "      <th>season</th>\n",
       "      <th>month_time</th>\n",
       "      <th>week_time</th>\n",
       "    </tr>\n",
       "  </thead>\n",
       "  <tbody>\n",
       "    <tr>\n",
       "      <td>0</td>\n",
       "      <td>u16159</td>\n",
       "      <td>2014-12-15 18:11:00</td>\n",
       "      <td>2014-12-15 18:12:00</td>\n",
       "      <td>A00002/B00003/C00006/D28435/</td>\n",
       "      <td>female</td>\n",
       "      <td>A00002</td>\n",
       "      <td>B00003</td>\n",
       "      <td>C00006</td>\n",
       "      <td>D28435</td>\n",
       "      <td>train</td>\n",
       "      <td>4</td>\n",
       "      <td>1.0</td>\n",
       "      <td>18</td>\n",
       "      <td>12</td>\n",
       "      <td>0</td>\n",
       "      <td>15</td>\n",
       "      <td>Winter</td>\n",
       "      <td>mid</td>\n",
       "      <td>weekdays</td>\n",
       "    </tr>\n",
       "    <tr>\n",
       "      <td>0</td>\n",
       "      <td>u16159</td>\n",
       "      <td>2014-12-15 18:11:00</td>\n",
       "      <td>2014-12-15 18:12:00</td>\n",
       "      <td>A00002/B00003/C00006/D02554/</td>\n",
       "      <td>female</td>\n",
       "      <td>A00002</td>\n",
       "      <td>B00003</td>\n",
       "      <td>C00006</td>\n",
       "      <td>D02554</td>\n",
       "      <td>train</td>\n",
       "      <td>4</td>\n",
       "      <td>1.0</td>\n",
       "      <td>18</td>\n",
       "      <td>12</td>\n",
       "      <td>0</td>\n",
       "      <td>15</td>\n",
       "      <td>Winter</td>\n",
       "      <td>mid</td>\n",
       "      <td>weekdays</td>\n",
       "    </tr>\n",
       "    <tr>\n",
       "      <td>0</td>\n",
       "      <td>u16159</td>\n",
       "      <td>2014-12-15 18:11:00</td>\n",
       "      <td>2014-12-15 18:12:00</td>\n",
       "      <td>A00002/B00003/C00006/D28436/</td>\n",
       "      <td>female</td>\n",
       "      <td>A00002</td>\n",
       "      <td>B00003</td>\n",
       "      <td>C00006</td>\n",
       "      <td>D28436</td>\n",
       "      <td>train</td>\n",
       "      <td>4</td>\n",
       "      <td>1.0</td>\n",
       "      <td>18</td>\n",
       "      <td>12</td>\n",
       "      <td>0</td>\n",
       "      <td>15</td>\n",
       "      <td>Winter</td>\n",
       "      <td>mid</td>\n",
       "      <td>weekdays</td>\n",
       "    </tr>\n",
       "    <tr>\n",
       "      <td>0</td>\n",
       "      <td>u16159</td>\n",
       "      <td>2014-12-15 18:11:00</td>\n",
       "      <td>2014-12-15 18:12:00</td>\n",
       "      <td>A00002/B00003/C00006/D28437/</td>\n",
       "      <td>female</td>\n",
       "      <td>A00002</td>\n",
       "      <td>B00003</td>\n",
       "      <td>C00006</td>\n",
       "      <td>D28437</td>\n",
       "      <td>train</td>\n",
       "      <td>4</td>\n",
       "      <td>1.0</td>\n",
       "      <td>18</td>\n",
       "      <td>12</td>\n",
       "      <td>0</td>\n",
       "      <td>15</td>\n",
       "      <td>Winter</td>\n",
       "      <td>mid</td>\n",
       "      <td>weekdays</td>\n",
       "    </tr>\n",
       "    <tr>\n",
       "      <td>1</td>\n",
       "      <td>u10253</td>\n",
       "      <td>2014-12-16 14:35:00</td>\n",
       "      <td>2014-12-16 14:41:00</td>\n",
       "      <td>A00001/B00009/C00031/D29404/</td>\n",
       "      <td>male</td>\n",
       "      <td>A00001</td>\n",
       "      <td>B00009</td>\n",
       "      <td>C00031</td>\n",
       "      <td>D29404</td>\n",
       "      <td>train</td>\n",
       "      <td>7</td>\n",
       "      <td>6.0</td>\n",
       "      <td>14</td>\n",
       "      <td>12</td>\n",
       "      <td>1</td>\n",
       "      <td>16</td>\n",
       "      <td>Winter</td>\n",
       "      <td>mid</td>\n",
       "      <td>weekdays</td>\n",
       "    </tr>\n",
       "  </tbody>\n",
       "</table>\n",
       "</div>"
      ],
      "text/plain": [
       "  session_id           startTime             endTime  \\\n",
       "0     u16159 2014-12-15 18:11:00 2014-12-15 18:12:00   \n",
       "0     u16159 2014-12-15 18:11:00 2014-12-15 18:12:00   \n",
       "0     u16159 2014-12-15 18:11:00 2014-12-15 18:12:00   \n",
       "0     u16159 2014-12-15 18:11:00 2014-12-15 18:12:00   \n",
       "1     u10253 2014-12-16 14:35:00 2014-12-16 14:41:00   \n",
       "\n",
       "                    ProductList  gender A_product B_product C_product  \\\n",
       "0  A00002/B00003/C00006/D28435/  female    A00002    B00003    C00006   \n",
       "0  A00002/B00003/C00006/D02554/  female    A00002    B00003    C00006   \n",
       "0  A00002/B00003/C00006/D28436/  female    A00002    B00003    C00006   \n",
       "0  A00002/B00003/C00006/D28437/  female    A00002    B00003    C00006   \n",
       "1  A00001/B00009/C00031/D29404/    male    A00001    B00009    C00031   \n",
       "\n",
       "  D_product  label  Product_Number  Duration  hour  month  weekday  day  \\\n",
       "0    D28435  train               4       1.0    18     12        0   15   \n",
       "0    D02554  train               4       1.0    18     12        0   15   \n",
       "0    D28436  train               4       1.0    18     12        0   15   \n",
       "0    D28437  train               4       1.0    18     12        0   15   \n",
       "1    D29404  train               7       6.0    14     12        1   16   \n",
       "\n",
       "   season month_time week_time  \n",
       "0  Winter        mid  weekdays  \n",
       "0  Winter        mid  weekdays  \n",
       "0  Winter        mid  weekdays  \n",
       "0  Winter        mid  weekdays  \n",
       "1  Winter        mid  weekdays  "
      ]
     },
     "execution_count": 236,
     "metadata": {},
     "output_type": "execute_result"
    }
   ],
   "source": [
    "full_data_2.head()"
   ]
  },
  {
   "cell_type": "code",
   "execution_count": 237,
   "metadata": {
    "colab": {},
    "colab_type": "code",
    "id": "l2wEjblH-JaW"
   },
   "outputs": [],
   "source": [
    "full_data_2.drop(['ProductList','startTime','endTime'],axis=1,inplace=True)"
   ]
  },
  {
   "cell_type": "code",
   "execution_count": 238,
   "metadata": {
    "colab": {
     "base_uri": "https://localhost:8080/",
     "height": 195
    },
    "colab_type": "code",
    "id": "5rDytyTO-JaX",
    "outputId": "0c630abf-5de3-4c24-965f-d300e5405597"
   },
   "outputs": [
    {
     "data": {
      "text/html": [
       "<div>\n",
       "<style scoped>\n",
       "    .dataframe tbody tr th:only-of-type {\n",
       "        vertical-align: middle;\n",
       "    }\n",
       "\n",
       "    .dataframe tbody tr th {\n",
       "        vertical-align: top;\n",
       "    }\n",
       "\n",
       "    .dataframe thead th {\n",
       "        text-align: right;\n",
       "    }\n",
       "</style>\n",
       "<table border=\"1\" class=\"dataframe\">\n",
       "  <thead>\n",
       "    <tr style=\"text-align: right;\">\n",
       "      <th></th>\n",
       "      <th>session_id</th>\n",
       "      <th>gender</th>\n",
       "      <th>A_product</th>\n",
       "      <th>B_product</th>\n",
       "      <th>C_product</th>\n",
       "      <th>D_product</th>\n",
       "      <th>label</th>\n",
       "      <th>Product_Number</th>\n",
       "      <th>Duration</th>\n",
       "      <th>hour</th>\n",
       "      <th>month</th>\n",
       "      <th>weekday</th>\n",
       "      <th>day</th>\n",
       "      <th>season</th>\n",
       "      <th>month_time</th>\n",
       "      <th>week_time</th>\n",
       "    </tr>\n",
       "  </thead>\n",
       "  <tbody>\n",
       "    <tr>\n",
       "      <td>0</td>\n",
       "      <td>u16159</td>\n",
       "      <td>female</td>\n",
       "      <td>A00002</td>\n",
       "      <td>B00003</td>\n",
       "      <td>C00006</td>\n",
       "      <td>D28435</td>\n",
       "      <td>train</td>\n",
       "      <td>4</td>\n",
       "      <td>1.0</td>\n",
       "      <td>18</td>\n",
       "      <td>12</td>\n",
       "      <td>0</td>\n",
       "      <td>15</td>\n",
       "      <td>Winter</td>\n",
       "      <td>mid</td>\n",
       "      <td>weekdays</td>\n",
       "    </tr>\n",
       "    <tr>\n",
       "      <td>0</td>\n",
       "      <td>u16159</td>\n",
       "      <td>female</td>\n",
       "      <td>A00002</td>\n",
       "      <td>B00003</td>\n",
       "      <td>C00006</td>\n",
       "      <td>D02554</td>\n",
       "      <td>train</td>\n",
       "      <td>4</td>\n",
       "      <td>1.0</td>\n",
       "      <td>18</td>\n",
       "      <td>12</td>\n",
       "      <td>0</td>\n",
       "      <td>15</td>\n",
       "      <td>Winter</td>\n",
       "      <td>mid</td>\n",
       "      <td>weekdays</td>\n",
       "    </tr>\n",
       "    <tr>\n",
       "      <td>0</td>\n",
       "      <td>u16159</td>\n",
       "      <td>female</td>\n",
       "      <td>A00002</td>\n",
       "      <td>B00003</td>\n",
       "      <td>C00006</td>\n",
       "      <td>D28436</td>\n",
       "      <td>train</td>\n",
       "      <td>4</td>\n",
       "      <td>1.0</td>\n",
       "      <td>18</td>\n",
       "      <td>12</td>\n",
       "      <td>0</td>\n",
       "      <td>15</td>\n",
       "      <td>Winter</td>\n",
       "      <td>mid</td>\n",
       "      <td>weekdays</td>\n",
       "    </tr>\n",
       "    <tr>\n",
       "      <td>0</td>\n",
       "      <td>u16159</td>\n",
       "      <td>female</td>\n",
       "      <td>A00002</td>\n",
       "      <td>B00003</td>\n",
       "      <td>C00006</td>\n",
       "      <td>D28437</td>\n",
       "      <td>train</td>\n",
       "      <td>4</td>\n",
       "      <td>1.0</td>\n",
       "      <td>18</td>\n",
       "      <td>12</td>\n",
       "      <td>0</td>\n",
       "      <td>15</td>\n",
       "      <td>Winter</td>\n",
       "      <td>mid</td>\n",
       "      <td>weekdays</td>\n",
       "    </tr>\n",
       "    <tr>\n",
       "      <td>1</td>\n",
       "      <td>u10253</td>\n",
       "      <td>male</td>\n",
       "      <td>A00001</td>\n",
       "      <td>B00009</td>\n",
       "      <td>C00031</td>\n",
       "      <td>D29404</td>\n",
       "      <td>train</td>\n",
       "      <td>7</td>\n",
       "      <td>6.0</td>\n",
       "      <td>14</td>\n",
       "      <td>12</td>\n",
       "      <td>1</td>\n",
       "      <td>16</td>\n",
       "      <td>Winter</td>\n",
       "      <td>mid</td>\n",
       "      <td>weekdays</td>\n",
       "    </tr>\n",
       "  </tbody>\n",
       "</table>\n",
       "</div>"
      ],
      "text/plain": [
       "  session_id  gender A_product B_product C_product D_product  label  \\\n",
       "0     u16159  female    A00002    B00003    C00006    D28435  train   \n",
       "0     u16159  female    A00002    B00003    C00006    D02554  train   \n",
       "0     u16159  female    A00002    B00003    C00006    D28436  train   \n",
       "0     u16159  female    A00002    B00003    C00006    D28437  train   \n",
       "1     u10253    male    A00001    B00009    C00031    D29404  train   \n",
       "\n",
       "   Product_Number  Duration  hour  month  weekday  day  season month_time  \\\n",
       "0               4       1.0    18     12        0   15  Winter        mid   \n",
       "0               4       1.0    18     12        0   15  Winter        mid   \n",
       "0               4       1.0    18     12        0   15  Winter        mid   \n",
       "0               4       1.0    18     12        0   15  Winter        mid   \n",
       "1               7       6.0    14     12        1   16  Winter        mid   \n",
       "\n",
       "  week_time  \n",
       "0  weekdays  \n",
       "0  weekdays  \n",
       "0  weekdays  \n",
       "0  weekdays  \n",
       "1  weekdays  "
      ]
     },
     "execution_count": 238,
     "metadata": {},
     "output_type": "execute_result"
    }
   ],
   "source": [
    "full_data_2.head()"
   ]
  },
  {
   "cell_type": "code",
   "execution_count": 239,
   "metadata": {
    "colab": {
     "base_uri": "https://localhost:8080/",
     "height": 84
    },
    "colab_type": "code",
    "id": "FtZ2tllv-Jad",
    "outputId": "d5068bfe-3e66-431f-b875-b73c31c878ae"
   },
   "outputs": [
    {
     "data": {
      "text/plain": [
       "Index(['session_id', 'gender', 'A_product', 'B_product', 'C_product',\n",
       "       'D_product', 'label', 'Product_Number', 'Duration', 'hour', 'month',\n",
       "       'weekday', 'day', 'season', 'month_time', 'week_time'],\n",
       "      dtype='object')"
      ]
     },
     "execution_count": 239,
     "metadata": {},
     "output_type": "execute_result"
    }
   ],
   "source": [
    "full_data_2.columns"
   ]
  },
  {
   "cell_type": "code",
   "execution_count": 240,
   "metadata": {
    "colab": {
     "base_uri": "https://localhost:8080/",
     "height": 402
    },
    "colab_type": "code",
    "id": "UiJCuXJY-Jaf",
    "outputId": "f1ad1d6d-1b4a-4567-d17c-a1a4fefc06ee"
   },
   "outputs": [],
   "source": [
    "full_data_3=full_data_2.copy()\n",
    "columns=['hour' ,'day','month','weekday','day']\n",
    "for col in columns:\n",
    "    full_data_3[col+'_sin']=np.sin((2*np.pi*full_data_3[col])/max(full_data_3[col]))\n",
    "    full_data_3[col+'_cos']=np.cos((2*np.pi*full_data_3[col])/max(full_data_3[col]))\n",
    "\n",
    "\n",
    "full_data_3=full_data_3.drop(columns,axis=1)\n",
    "\n"
   ]
  },
  {
   "cell_type": "code",
   "execution_count": 241,
   "metadata": {
    "colab": {
     "base_uri": "https://localhost:8080/",
     "height": 299
    },
    "colab_type": "code",
    "id": "SRQm__l3vPd4",
    "outputId": "29b92943-7f53-4d40-b27e-746ff0be8081"
   },
   "outputs": [
    {
     "data": {
      "text/html": [
       "<div>\n",
       "<style scoped>\n",
       "    .dataframe tbody tr th:only-of-type {\n",
       "        vertical-align: middle;\n",
       "    }\n",
       "\n",
       "    .dataframe tbody tr th {\n",
       "        vertical-align: top;\n",
       "    }\n",
       "\n",
       "    .dataframe thead th {\n",
       "        text-align: right;\n",
       "    }\n",
       "</style>\n",
       "<table border=\"1\" class=\"dataframe\">\n",
       "  <thead>\n",
       "    <tr style=\"text-align: right;\">\n",
       "      <th></th>\n",
       "      <th>session_id</th>\n",
       "      <th>gender</th>\n",
       "      <th>A_product</th>\n",
       "      <th>B_product</th>\n",
       "      <th>C_product</th>\n",
       "      <th>D_product</th>\n",
       "      <th>label</th>\n",
       "      <th>Product_Number</th>\n",
       "      <th>Duration</th>\n",
       "      <th>season</th>\n",
       "      <th>month_time</th>\n",
       "      <th>week_time</th>\n",
       "      <th>hour_sin</th>\n",
       "      <th>hour_cos</th>\n",
       "      <th>day_sin</th>\n",
       "      <th>day_cos</th>\n",
       "      <th>month_sin</th>\n",
       "      <th>month_cos</th>\n",
       "      <th>weekday_sin</th>\n",
       "      <th>weekday_cos</th>\n",
       "    </tr>\n",
       "  </thead>\n",
       "  <tbody>\n",
       "    <tr>\n",
       "      <td>0</td>\n",
       "      <td>u16159</td>\n",
       "      <td>female</td>\n",
       "      <td>A00002</td>\n",
       "      <td>B00003</td>\n",
       "      <td>C00006</td>\n",
       "      <td>D28435</td>\n",
       "      <td>train</td>\n",
       "      <td>4</td>\n",
       "      <td>1.0</td>\n",
       "      <td>Winter</td>\n",
       "      <td>mid</td>\n",
       "      <td>weekdays</td>\n",
       "      <td>-0.979084</td>\n",
       "      <td>0.203456</td>\n",
       "      <td>5.665539e-16</td>\n",
       "      <td>-1.000000</td>\n",
       "      <td>-2.449294e-16</td>\n",
       "      <td>1.0</td>\n",
       "      <td>0.000000</td>\n",
       "      <td>1.0</td>\n",
       "    </tr>\n",
       "    <tr>\n",
       "      <td>0</td>\n",
       "      <td>u16159</td>\n",
       "      <td>female</td>\n",
       "      <td>A00002</td>\n",
       "      <td>B00003</td>\n",
       "      <td>C00006</td>\n",
       "      <td>D02554</td>\n",
       "      <td>train</td>\n",
       "      <td>4</td>\n",
       "      <td>1.0</td>\n",
       "      <td>Winter</td>\n",
       "      <td>mid</td>\n",
       "      <td>weekdays</td>\n",
       "      <td>-0.979084</td>\n",
       "      <td>0.203456</td>\n",
       "      <td>5.665539e-16</td>\n",
       "      <td>-1.000000</td>\n",
       "      <td>-2.449294e-16</td>\n",
       "      <td>1.0</td>\n",
       "      <td>0.000000</td>\n",
       "      <td>1.0</td>\n",
       "    </tr>\n",
       "    <tr>\n",
       "      <td>0</td>\n",
       "      <td>u16159</td>\n",
       "      <td>female</td>\n",
       "      <td>A00002</td>\n",
       "      <td>B00003</td>\n",
       "      <td>C00006</td>\n",
       "      <td>D28436</td>\n",
       "      <td>train</td>\n",
       "      <td>4</td>\n",
       "      <td>1.0</td>\n",
       "      <td>Winter</td>\n",
       "      <td>mid</td>\n",
       "      <td>weekdays</td>\n",
       "      <td>-0.979084</td>\n",
       "      <td>0.203456</td>\n",
       "      <td>5.665539e-16</td>\n",
       "      <td>-1.000000</td>\n",
       "      <td>-2.449294e-16</td>\n",
       "      <td>1.0</td>\n",
       "      <td>0.000000</td>\n",
       "      <td>1.0</td>\n",
       "    </tr>\n",
       "    <tr>\n",
       "      <td>0</td>\n",
       "      <td>u16159</td>\n",
       "      <td>female</td>\n",
       "      <td>A00002</td>\n",
       "      <td>B00003</td>\n",
       "      <td>C00006</td>\n",
       "      <td>D28437</td>\n",
       "      <td>train</td>\n",
       "      <td>4</td>\n",
       "      <td>1.0</td>\n",
       "      <td>Winter</td>\n",
       "      <td>mid</td>\n",
       "      <td>weekdays</td>\n",
       "      <td>-0.979084</td>\n",
       "      <td>0.203456</td>\n",
       "      <td>5.665539e-16</td>\n",
       "      <td>-1.000000</td>\n",
       "      <td>-2.449294e-16</td>\n",
       "      <td>1.0</td>\n",
       "      <td>0.000000</td>\n",
       "      <td>1.0</td>\n",
       "    </tr>\n",
       "    <tr>\n",
       "      <td>1</td>\n",
       "      <td>u10253</td>\n",
       "      <td>male</td>\n",
       "      <td>A00001</td>\n",
       "      <td>B00009</td>\n",
       "      <td>C00031</td>\n",
       "      <td>D29404</td>\n",
       "      <td>train</td>\n",
       "      <td>7</td>\n",
       "      <td>6.0</td>\n",
       "      <td>Winter</td>\n",
       "      <td>mid</td>\n",
       "      <td>weekdays</td>\n",
       "      <td>-0.631088</td>\n",
       "      <td>-0.775711</td>\n",
       "      <td>-2.079117e-01</td>\n",
       "      <td>-0.978148</td>\n",
       "      <td>-2.449294e-16</td>\n",
       "      <td>1.0</td>\n",
       "      <td>0.866025</td>\n",
       "      <td>0.5</td>\n",
       "    </tr>\n",
       "  </tbody>\n",
       "</table>\n",
       "</div>"
      ],
      "text/plain": [
       "  session_id  gender A_product B_product C_product D_product  label  \\\n",
       "0     u16159  female    A00002    B00003    C00006    D28435  train   \n",
       "0     u16159  female    A00002    B00003    C00006    D02554  train   \n",
       "0     u16159  female    A00002    B00003    C00006    D28436  train   \n",
       "0     u16159  female    A00002    B00003    C00006    D28437  train   \n",
       "1     u10253    male    A00001    B00009    C00031    D29404  train   \n",
       "\n",
       "   Product_Number  Duration  season month_time week_time  hour_sin  hour_cos  \\\n",
       "0               4       1.0  Winter        mid  weekdays -0.979084  0.203456   \n",
       "0               4       1.0  Winter        mid  weekdays -0.979084  0.203456   \n",
       "0               4       1.0  Winter        mid  weekdays -0.979084  0.203456   \n",
       "0               4       1.0  Winter        mid  weekdays -0.979084  0.203456   \n",
       "1               7       6.0  Winter        mid  weekdays -0.631088 -0.775711   \n",
       "\n",
       "        day_sin   day_cos     month_sin  month_cos  weekday_sin  weekday_cos  \n",
       "0  5.665539e-16 -1.000000 -2.449294e-16        1.0     0.000000          1.0  \n",
       "0  5.665539e-16 -1.000000 -2.449294e-16        1.0     0.000000          1.0  \n",
       "0  5.665539e-16 -1.000000 -2.449294e-16        1.0     0.000000          1.0  \n",
       "0  5.665539e-16 -1.000000 -2.449294e-16        1.0     0.000000          1.0  \n",
       "1 -2.079117e-01 -0.978148 -2.449294e-16        1.0     0.866025          0.5  "
      ]
     },
     "execution_count": 241,
     "metadata": {},
     "output_type": "execute_result"
    }
   ],
   "source": [
    "full_data_3.head()"
   ]
  },
  {
   "cell_type": "code",
   "execution_count": 242,
   "metadata": {
    "colab": {
     "base_uri": "https://localhost:8080/",
     "height": 101
    },
    "colab_type": "code",
    "id": "lHxOSuT1xmXx",
    "outputId": "c2877b3d-b9ed-4b25-f703-01aec1cddc1c"
   },
   "outputs": [
    {
     "data": {
      "text/plain": [
       "Index(['session_id', 'gender', 'A_product', 'B_product', 'C_product',\n",
       "       'D_product', 'label', 'Product_Number', 'Duration', 'season',\n",
       "       'month_time', 'week_time', 'hour_sin', 'hour_cos', 'day_sin', 'day_cos',\n",
       "       'month_sin', 'month_cos', 'weekday_sin', 'weekday_cos'],\n",
       "      dtype='object')"
      ]
     },
     "execution_count": 242,
     "metadata": {},
     "output_type": "execute_result"
    }
   ],
   "source": [
    "full_data_3.columns"
   ]
  },
  {
   "cell_type": "code",
   "execution_count": 243,
   "metadata": {
    "colab": {
     "base_uri": "https://localhost:8080/",
     "height": 470
    },
    "colab_type": "code",
    "id": "P-Dqz4FQ3Gdi",
    "outputId": "29909288-0e6d-45cb-c4c4-5ec86f45362e"
   },
   "outputs": [
    {
     "name": "stdout",
     "output_type": "stream",
     "text": [
      "<class 'pandas.core.frame.DataFrame'>\n",
      "Int64Index: 33455 entries, 0 to 14999\n",
      "Data columns (total 20 columns):\n",
      "session_id        33455 non-null object\n",
      "gender            33455 non-null object\n",
      "A_product         33455 non-null object\n",
      "B_product         33455 non-null object\n",
      "C_product         33455 non-null object\n",
      "D_product         33455 non-null object\n",
      "label             33455 non-null object\n",
      "Product_Number    33455 non-null int64\n",
      "Duration          33455 non-null float64\n",
      "season            33455 non-null category\n",
      "month_time        33455 non-null category\n",
      "week_time         33455 non-null category\n",
      "hour_sin          33455 non-null float64\n",
      "hour_cos          33455 non-null float64\n",
      "day_sin           33455 non-null float64\n",
      "day_cos           33455 non-null float64\n",
      "month_sin         33455 non-null float64\n",
      "month_cos         33455 non-null float64\n",
      "weekday_sin       33455 non-null float64\n",
      "weekday_cos       33455 non-null float64\n",
      "dtypes: category(3), float64(9), int64(1), object(7)\n",
      "memory usage: 4.7+ MB\n"
     ]
    }
   ],
   "source": [
    "full_data_3.info()"
   ]
  },
  {
   "cell_type": "markdown",
   "metadata": {},
   "source": [
    "# Data Encoding"
   ]
  },
  {
   "cell_type": "code",
   "execution_count": 244,
   "metadata": {
    "colab": {},
    "colab_type": "code",
    "id": "nFUQbr4QNvB1"
   },
   "outputs": [],
   "source": [
    "col=['session_id','A_product','B_product','C_product','D_product','season','month_time','week_time']\n",
    "lbl = LabelEncoder()\n",
    "for c in col:\n",
    "  full_data_3[c] = lbl.fit_transform(full_data_3[c])"
   ]
  },
  {
   "cell_type": "code",
   "execution_count": 245,
   "metadata": {
    "colab": {
     "base_uri": "https://localhost:8080/",
     "height": 299
    },
    "colab_type": "code",
    "id": "6TQjxf6-3Sts",
    "outputId": "5ac37681-cd76-4120-b710-e9b736c235b2"
   },
   "outputs": [
    {
     "data": {
      "text/html": [
       "<div>\n",
       "<style scoped>\n",
       "    .dataframe tbody tr th:only-of-type {\n",
       "        vertical-align: middle;\n",
       "    }\n",
       "\n",
       "    .dataframe tbody tr th {\n",
       "        vertical-align: top;\n",
       "    }\n",
       "\n",
       "    .dataframe thead th {\n",
       "        text-align: right;\n",
       "    }\n",
       "</style>\n",
       "<table border=\"1\" class=\"dataframe\">\n",
       "  <thead>\n",
       "    <tr style=\"text-align: right;\">\n",
       "      <th></th>\n",
       "      <th>session_id</th>\n",
       "      <th>gender</th>\n",
       "      <th>A_product</th>\n",
       "      <th>B_product</th>\n",
       "      <th>C_product</th>\n",
       "      <th>D_product</th>\n",
       "      <th>label</th>\n",
       "      <th>Product_Number</th>\n",
       "      <th>Duration</th>\n",
       "      <th>season</th>\n",
       "      <th>month_time</th>\n",
       "      <th>week_time</th>\n",
       "      <th>hour_sin</th>\n",
       "      <th>hour_cos</th>\n",
       "      <th>day_sin</th>\n",
       "      <th>day_cos</th>\n",
       "      <th>month_sin</th>\n",
       "      <th>month_cos</th>\n",
       "      <th>weekday_sin</th>\n",
       "      <th>weekday_cos</th>\n",
       "    </tr>\n",
       "  </thead>\n",
       "  <tbody>\n",
       "    <tr>\n",
       "      <td>0</td>\n",
       "      <td>6158</td>\n",
       "      <td>female</td>\n",
       "      <td>1</td>\n",
       "      <td>2</td>\n",
       "      <td>5</td>\n",
       "      <td>17574</td>\n",
       "      <td>train</td>\n",
       "      <td>4</td>\n",
       "      <td>1.0</td>\n",
       "      <td>1</td>\n",
       "      <td>0</td>\n",
       "      <td>0</td>\n",
       "      <td>-0.979084</td>\n",
       "      <td>0.203456</td>\n",
       "      <td>5.665539e-16</td>\n",
       "      <td>-1.000000</td>\n",
       "      <td>-2.449294e-16</td>\n",
       "      <td>1.0</td>\n",
       "      <td>0.000000</td>\n",
       "      <td>1.0</td>\n",
       "    </tr>\n",
       "    <tr>\n",
       "      <td>0</td>\n",
       "      <td>6158</td>\n",
       "      <td>female</td>\n",
       "      <td>1</td>\n",
       "      <td>2</td>\n",
       "      <td>5</td>\n",
       "      <td>1789</td>\n",
       "      <td>train</td>\n",
       "      <td>4</td>\n",
       "      <td>1.0</td>\n",
       "      <td>1</td>\n",
       "      <td>0</td>\n",
       "      <td>0</td>\n",
       "      <td>-0.979084</td>\n",
       "      <td>0.203456</td>\n",
       "      <td>5.665539e-16</td>\n",
       "      <td>-1.000000</td>\n",
       "      <td>-2.449294e-16</td>\n",
       "      <td>1.0</td>\n",
       "      <td>0.000000</td>\n",
       "      <td>1.0</td>\n",
       "    </tr>\n",
       "    <tr>\n",
       "      <td>0</td>\n",
       "      <td>6158</td>\n",
       "      <td>female</td>\n",
       "      <td>1</td>\n",
       "      <td>2</td>\n",
       "      <td>5</td>\n",
       "      <td>17575</td>\n",
       "      <td>train</td>\n",
       "      <td>4</td>\n",
       "      <td>1.0</td>\n",
       "      <td>1</td>\n",
       "      <td>0</td>\n",
       "      <td>0</td>\n",
       "      <td>-0.979084</td>\n",
       "      <td>0.203456</td>\n",
       "      <td>5.665539e-16</td>\n",
       "      <td>-1.000000</td>\n",
       "      <td>-2.449294e-16</td>\n",
       "      <td>1.0</td>\n",
       "      <td>0.000000</td>\n",
       "      <td>1.0</td>\n",
       "    </tr>\n",
       "    <tr>\n",
       "      <td>0</td>\n",
       "      <td>6158</td>\n",
       "      <td>female</td>\n",
       "      <td>1</td>\n",
       "      <td>2</td>\n",
       "      <td>5</td>\n",
       "      <td>17576</td>\n",
       "      <td>train</td>\n",
       "      <td>4</td>\n",
       "      <td>1.0</td>\n",
       "      <td>1</td>\n",
       "      <td>0</td>\n",
       "      <td>0</td>\n",
       "      <td>-0.979084</td>\n",
       "      <td>0.203456</td>\n",
       "      <td>5.665539e-16</td>\n",
       "      <td>-1.000000</td>\n",
       "      <td>-2.449294e-16</td>\n",
       "      <td>1.0</td>\n",
       "      <td>0.000000</td>\n",
       "      <td>1.0</td>\n",
       "    </tr>\n",
       "    <tr>\n",
       "      <td>1</td>\n",
       "      <td>252</td>\n",
       "      <td>male</td>\n",
       "      <td>0</td>\n",
       "      <td>8</td>\n",
       "      <td>30</td>\n",
       "      <td>18146</td>\n",
       "      <td>train</td>\n",
       "      <td>7</td>\n",
       "      <td>6.0</td>\n",
       "      <td>1</td>\n",
       "      <td>0</td>\n",
       "      <td>0</td>\n",
       "      <td>-0.631088</td>\n",
       "      <td>-0.775711</td>\n",
       "      <td>-2.079117e-01</td>\n",
       "      <td>-0.978148</td>\n",
       "      <td>-2.449294e-16</td>\n",
       "      <td>1.0</td>\n",
       "      <td>0.866025</td>\n",
       "      <td>0.5</td>\n",
       "    </tr>\n",
       "  </tbody>\n",
       "</table>\n",
       "</div>"
      ],
      "text/plain": [
       "   session_id  gender  A_product  B_product  C_product  D_product  label  \\\n",
       "0        6158  female          1          2          5      17574  train   \n",
       "0        6158  female          1          2          5       1789  train   \n",
       "0        6158  female          1          2          5      17575  train   \n",
       "0        6158  female          1          2          5      17576  train   \n",
       "1         252    male          0          8         30      18146  train   \n",
       "\n",
       "   Product_Number  Duration  season  month_time  week_time  hour_sin  \\\n",
       "0               4       1.0       1           0          0 -0.979084   \n",
       "0               4       1.0       1           0          0 -0.979084   \n",
       "0               4       1.0       1           0          0 -0.979084   \n",
       "0               4       1.0       1           0          0 -0.979084   \n",
       "1               7       6.0       1           0          0 -0.631088   \n",
       "\n",
       "   hour_cos       day_sin   day_cos     month_sin  month_cos  weekday_sin  \\\n",
       "0  0.203456  5.665539e-16 -1.000000 -2.449294e-16        1.0     0.000000   \n",
       "0  0.203456  5.665539e-16 -1.000000 -2.449294e-16        1.0     0.000000   \n",
       "0  0.203456  5.665539e-16 -1.000000 -2.449294e-16        1.0     0.000000   \n",
       "0  0.203456  5.665539e-16 -1.000000 -2.449294e-16        1.0     0.000000   \n",
       "1 -0.775711 -2.079117e-01 -0.978148 -2.449294e-16        1.0     0.866025   \n",
       "\n",
       "   weekday_cos  \n",
       "0          1.0  \n",
       "0          1.0  \n",
       "0          1.0  \n",
       "0          1.0  \n",
       "1          0.5  "
      ]
     },
     "execution_count": 245,
     "metadata": {},
     "output_type": "execute_result"
    }
   ],
   "source": [
    "full_data_3.head()"
   ]
  },
  {
   "cell_type": "code",
   "execution_count": 246,
   "metadata": {
    "colab": {
     "base_uri": "https://localhost:8080/",
     "height": 470
    },
    "colab_type": "code",
    "id": "0gCRFuIWDn8a",
    "outputId": "4ab003f7-ecf6-4149-d4b5-e0d0d9731b0f"
   },
   "outputs": [
    {
     "name": "stdout",
     "output_type": "stream",
     "text": [
      "<class 'pandas.core.frame.DataFrame'>\n",
      "Int64Index: 33455 entries, 0 to 14999\n",
      "Data columns (total 20 columns):\n",
      "session_id        33455 non-null int32\n",
      "gender            33455 non-null object\n",
      "A_product         33455 non-null int32\n",
      "B_product         33455 non-null int32\n",
      "C_product         33455 non-null int32\n",
      "D_product         33455 non-null int32\n",
      "label             33455 non-null object\n",
      "Product_Number    33455 non-null int64\n",
      "Duration          33455 non-null float64\n",
      "season            33455 non-null int32\n",
      "month_time        33455 non-null int32\n",
      "week_time         33455 non-null int32\n",
      "hour_sin          33455 non-null float64\n",
      "hour_cos          33455 non-null float64\n",
      "day_sin           33455 non-null float64\n",
      "day_cos           33455 non-null float64\n",
      "month_sin         33455 non-null float64\n",
      "month_cos         33455 non-null float64\n",
      "weekday_sin       33455 non-null float64\n",
      "weekday_cos       33455 non-null float64\n",
      "dtypes: float64(9), int32(8), int64(1), object(2)\n",
      "memory usage: 4.3+ MB\n"
     ]
    }
   ],
   "source": [
    "full_data_3.info()"
   ]
  },
  {
   "cell_type": "markdown",
   "metadata": {},
   "source": [
    "# Spliting the data in train,test and val"
   ]
  },
  {
   "cell_type": "code",
   "execution_count": 247,
   "metadata": {
    "colab": {},
    "colab_type": "code",
    "id": "sE0LjEfuERjk"
   },
   "outputs": [],
   "source": [
    "train_final = full_data_3[full_data_3['label']=='train']\n",
    "test_final = full_data_3[full_data_3['label']=='test']"
   ]
  },
  {
   "cell_type": "code",
   "execution_count": 248,
   "metadata": {
    "colab": {
     "base_uri": "https://localhost:8080/",
     "height": 101
    },
    "colab_type": "code",
    "id": "-E5Ki9dcEqRZ",
    "outputId": "b23d94cb-836c-47b0-bc4b-4998d56ab70d"
   },
   "outputs": [],
   "source": [
    "train_final.drop('label',axis=1,inplace=True)\n",
    "test_final.drop('label',axis=1,inplace=True)"
   ]
  },
  {
   "cell_type": "code",
   "execution_count": 249,
   "metadata": {
    "colab": {
     "base_uri": "https://localhost:8080/",
     "height": 101
    },
    "colab_type": "code",
    "id": "zRnEt-nBXmzv",
    "outputId": "34420f2a-1c6e-4f81-ceef-5168a3166b91"
   },
   "outputs": [],
   "source": [
    "test_final.drop('gender',axis=1,inplace=True)\n",
    "X=train_final.drop('gender',axis=1)\n",
    "Y=train_final['gender'].map({'male':1,'female':0})"
   ]
  },
  {
   "cell_type": "code",
   "execution_count": 250,
   "metadata": {
    "colab": {
     "base_uri": "https://localhost:8080/",
     "height": 67
    },
    "colab_type": "code",
    "id": "Ioj0yNmTFkwj",
    "outputId": "33c08e28-725d-4d2f-f6de-c96cf2965ae5"
   },
   "outputs": [
    {
     "name": "stdout",
     "output_type": "stream",
     "text": [
      "(23251, 18)\n",
      "(17438, 18)\n",
      "(5813, 18)\n"
     ]
    }
   ],
   "source": [
    "np.random.seed(0)\n",
    "val_size = 0.25\n",
    "X_train, X_val, Y_train, Y_val = train_test_split(X, Y, test_size=val_size)\n",
    "print(X.shape)\n",
    "print(X_train.shape)\n",
    "print(X_val.shape)"
   ]
  },
  {
   "cell_type": "markdown",
   "metadata": {},
   "source": []
  },
  {
   "cell_type": "markdown",
   "metadata": {},
   "source": [
    "# Modelling Training"
   ]
  },
  {
   "cell_type": "markdown",
   "metadata": {},
   "source": [
    "## Random Forest"
   ]
  },
  {
   "cell_type": "code",
   "execution_count": 251,
   "metadata": {
    "colab": {
     "base_uri": "https://localhost:8080/",
     "height": 34
    },
    "colab_type": "code",
    "id": "OU2m4qgoY5Z6",
    "outputId": "2d20eeb1-2323-443c-f6d5-675b99866dc0"
   },
   "outputs": [
    {
     "name": "stdout",
     "output_type": "stream",
     "text": [
      "accuracy score 0.9482195079993119\n"
     ]
    }
   ],
   "source": [
    "clf= RandomForestClassifier()\n",
    "\n",
    "clf.fit(X_train,Y_train)\n",
    "\n",
    "print(\"accuracy score\" + \" %s\" % accuracy_score(Y_val, clf.predict(X_val)))"
   ]
  },
  {
   "cell_type": "markdown",
   "metadata": {},
   "source": [
    "## XG BOOST"
   ]
  },
  {
   "cell_type": "code",
   "execution_count": 252,
   "metadata": {},
   "outputs": [
    {
     "name": "stdout",
     "output_type": "stream",
     "text": [
      "accuracy score 0.9559607775675211\n"
     ]
    }
   ],
   "source": [
    "xgb = XGBClassifier()\n",
    "xgb.fit(X_train, Y_train)\n",
    "print(\"accuracy score\" + \" %s\" % accuracy_score(Y_val, xgb.predict(X_val)))"
   ]
  },
  {
   "cell_type": "code",
   "execution_count": 253,
   "metadata": {},
   "outputs": [
    {
     "data": {
      "text/html": [
       "<div>\n",
       "<style scoped>\n",
       "    .dataframe tbody tr th:only-of-type {\n",
       "        vertical-align: middle;\n",
       "    }\n",
       "\n",
       "    .dataframe tbody tr th {\n",
       "        vertical-align: top;\n",
       "    }\n",
       "\n",
       "    .dataframe thead th {\n",
       "        text-align: right;\n",
       "    }\n",
       "</style>\n",
       "<table border=\"1\" class=\"dataframe\">\n",
       "  <thead>\n",
       "    <tr style=\"text-align: right;\">\n",
       "      <th></th>\n",
       "      <th>columns</th>\n",
       "      <th>importances</th>\n",
       "    </tr>\n",
       "  </thead>\n",
       "  <tbody>\n",
       "    <tr>\n",
       "      <td>1</td>\n",
       "      <td>A_product</td>\n",
       "      <td>0.557935</td>\n",
       "    </tr>\n",
       "    <tr>\n",
       "      <td>0</td>\n",
       "      <td>session_id</td>\n",
       "      <td>0.056906</td>\n",
       "    </tr>\n",
       "    <tr>\n",
       "      <td>5</td>\n",
       "      <td>Product_Number</td>\n",
       "      <td>0.038168</td>\n",
       "    </tr>\n",
       "    <tr>\n",
       "      <td>9</td>\n",
       "      <td>week_time</td>\n",
       "      <td>0.036046</td>\n",
       "    </tr>\n",
       "    <tr>\n",
       "      <td>11</td>\n",
       "      <td>hour_cos</td>\n",
       "      <td>0.034568</td>\n",
       "    </tr>\n",
       "    <tr>\n",
       "      <td>13</td>\n",
       "      <td>day_cos</td>\n",
       "      <td>0.030979</td>\n",
       "    </tr>\n",
       "    <tr>\n",
       "      <td>16</td>\n",
       "      <td>weekday_sin</td>\n",
       "      <td>0.030252</td>\n",
       "    </tr>\n",
       "    <tr>\n",
       "      <td>2</td>\n",
       "      <td>B_product</td>\n",
       "      <td>0.029530</td>\n",
       "    </tr>\n",
       "    <tr>\n",
       "      <td>12</td>\n",
       "      <td>day_sin</td>\n",
       "      <td>0.029506</td>\n",
       "    </tr>\n",
       "    <tr>\n",
       "      <td>10</td>\n",
       "      <td>hour_sin</td>\n",
       "      <td>0.029101</td>\n",
       "    </tr>\n",
       "    <tr>\n",
       "      <td>3</td>\n",
       "      <td>C_product</td>\n",
       "      <td>0.028208</td>\n",
       "    </tr>\n",
       "    <tr>\n",
       "      <td>6</td>\n",
       "      <td>Duration</td>\n",
       "      <td>0.027909</td>\n",
       "    </tr>\n",
       "    <tr>\n",
       "      <td>17</td>\n",
       "      <td>weekday_cos</td>\n",
       "      <td>0.026816</td>\n",
       "    </tr>\n",
       "    <tr>\n",
       "      <td>7</td>\n",
       "      <td>season</td>\n",
       "      <td>0.024541</td>\n",
       "    </tr>\n",
       "    <tr>\n",
       "      <td>4</td>\n",
       "      <td>D_product</td>\n",
       "      <td>0.019536</td>\n",
       "    </tr>\n",
       "    <tr>\n",
       "      <td>8</td>\n",
       "      <td>month_time</td>\n",
       "      <td>0.000000</td>\n",
       "    </tr>\n",
       "    <tr>\n",
       "      <td>14</td>\n",
       "      <td>month_sin</td>\n",
       "      <td>0.000000</td>\n",
       "    </tr>\n",
       "    <tr>\n",
       "      <td>15</td>\n",
       "      <td>month_cos</td>\n",
       "      <td>0.000000</td>\n",
       "    </tr>\n",
       "  </tbody>\n",
       "</table>\n",
       "</div>"
      ],
      "text/plain": [
       "           columns  importances\n",
       "1        A_product     0.557935\n",
       "0       session_id     0.056906\n",
       "5   Product_Number     0.038168\n",
       "9        week_time     0.036046\n",
       "11        hour_cos     0.034568\n",
       "13         day_cos     0.030979\n",
       "16     weekday_sin     0.030252\n",
       "2        B_product     0.029530\n",
       "12         day_sin     0.029506\n",
       "10        hour_sin     0.029101\n",
       "3        C_product     0.028208\n",
       "6         Duration     0.027909\n",
       "17     weekday_cos     0.026816\n",
       "7           season     0.024541\n",
       "4        D_product     0.019536\n",
       "8       month_time     0.000000\n",
       "14       month_sin     0.000000\n",
       "15       month_cos     0.000000"
      ]
     },
     "execution_count": 253,
     "metadata": {},
     "output_type": "execute_result"
    }
   ],
   "source": [
    "results=pd.DataFrame()\n",
    "results['columns']=X_train.columns\n",
    "results['importances'] =xgb.feature_importances_\n",
    "results.sort_values(by='importances',ascending=False,inplace=True)\n",
    "\n",
    "results[:20]"
   ]
  },
  {
   "cell_type": "markdown",
   "metadata": {},
   "source": [
    "## XGBoost model after grid search gave Validation accuracy of 96.5% , test accuracy of 94.46%. "
   ]
  },
  {
   "cell_type": "code",
   "execution_count": 254,
   "metadata": {
    "colab": {
     "base_uri": "https://localhost:8080/",
     "height": 101
    },
    "colab_type": "code",
    "id": "_HP2tETwZz94",
    "outputId": "e3eaae06-f65e-4d55-c9a9-09e292f3a6e1"
   },
   "outputs": [
    {
     "name": "stdout",
     "output_type": "stream",
     "text": [
      "Fitting 10 folds for each of 6 candidates, totalling 60 fits\n"
     ]
    },
    {
     "name": "stderr",
     "output_type": "stream",
     "text": [
      "[Parallel(n_jobs=1)]: Using backend SequentialBackend with 1 concurrent workers.\n",
      "[Parallel(n_jobs=1)]: Done  60 out of  60 | elapsed:  4.9min finished\n"
     ]
    },
    {
     "name": "stdout",
     "output_type": "stream",
     "text": [
      "{'max_depth': 7, 'n_estimators': 300}\n",
      "accuracy score 0.965422329261999\n"
     ]
    }
   ],
   "source": [
    "\n",
    "xgb = XGBClassifier()\n",
    "optimization_dict = {'max_depth': [7,8],\n",
    "                      'n_estimators': [250,300,350]}\n",
    "\n",
    "grid_xgb = GridSearchCV(xgb, optimization_dict,cv=10, verbose=1)\n",
    "\n",
    "grid_xgb.fit(X_train, Y_train)\n",
    "print(model.best_params_)\n",
    "print(\"accuracy score\" + \" %s\" % accuracy_score(Y_val, grid_xgb.predict(X_val)))"
   ]
  },
  {
   "cell_type": "code",
   "execution_count": 255,
   "metadata": {},
   "outputs": [
    {
     "data": {
      "text/html": [
       "<div>\n",
       "<style scoped>\n",
       "    .dataframe tbody tr th:only-of-type {\n",
       "        vertical-align: middle;\n",
       "    }\n",
       "\n",
       "    .dataframe tbody tr th {\n",
       "        vertical-align: top;\n",
       "    }\n",
       "\n",
       "    .dataframe thead th {\n",
       "        text-align: right;\n",
       "    }\n",
       "</style>\n",
       "<table border=\"1\" class=\"dataframe\">\n",
       "  <thead>\n",
       "    <tr style=\"text-align: right;\">\n",
       "      <th></th>\n",
       "      <th>session_id</th>\n",
       "      <th>gender</th>\n",
       "    </tr>\n",
       "  </thead>\n",
       "  <tbody>\n",
       "    <tr>\n",
       "      <td>10500</td>\n",
       "      <td>2111</td>\n",
       "      <td>male</td>\n",
       "    </tr>\n",
       "    <tr>\n",
       "      <td>10501</td>\n",
       "      <td>9724</td>\n",
       "      <td>male</td>\n",
       "    </tr>\n",
       "    <tr>\n",
       "      <td>10502</td>\n",
       "      <td>1794</td>\n",
       "      <td>male</td>\n",
       "    </tr>\n",
       "    <tr>\n",
       "      <td>10503</td>\n",
       "      <td>12638</td>\n",
       "      <td>female</td>\n",
       "    </tr>\n",
       "    <tr>\n",
       "      <td>10503</td>\n",
       "      <td>12638</td>\n",
       "      <td>female</td>\n",
       "    </tr>\n",
       "  </tbody>\n",
       "</table>\n",
       "</div>"
      ],
      "text/plain": [
       "       session_id  gender\n",
       "10500        2111    male\n",
       "10501        9724    male\n",
       "10502        1794    male\n",
       "10503       12638  female\n",
       "10503       12638  female"
      ]
     },
     "execution_count": 255,
     "metadata": {},
     "output_type": "execute_result"
    }
   ],
   "source": [
    "test_pred = grid_xgb.predict(test_final)\n",
    "submission = pd.DataFrame({'session_id':test_final['session_id'],'gender':test_pred})\n",
    "submission['gender']= submission['gender'].map({1:'female',0:'male'})\n",
    "\n",
    "#Visualize the first 5 rows\n",
    "submission.head()\n"
   ]
  },
  {
   "cell_type": "code",
   "execution_count": 256,
   "metadata": {},
   "outputs": [
    {
     "name": "stdout",
     "output_type": "stream",
     "text": [
      "Saved file: Janta_hack_submission.csv\n"
     ]
    }
   ],
   "source": [
    "# filename = 'Janta_hack_submission.csv'\n",
    "\n",
    "# submission.to_csv(filename,index=False)\n",
    "\n",
    "# print('Saved file: ' + filename)"
   ]
  },
  {
   "cell_type": "code",
   "execution_count": null,
   "metadata": {},
   "outputs": [],
   "source": [
    "import lightgbm as lgb\n",
    "\n",
    "train_data = lgb.Dataset(X_train, label = Y_encoded)\n",
    "\n",
    "#setting parameters for lightgbm\n",
    "param = {'num_leaves':30, 'objective':'binary','max_depth':8,'learning_rate':.11, 'max_bin' : 200}\n",
    "param['metric'] = ['auc', 'accuracy']\n",
    "\n",
    "lgbmodel = lgb.train(param, train_data, 4000, verbose_eval=True)\n"
   ]
  }
 ],
 "metadata": {
  "colab": {
   "name": "Janta_Hack.ipynb",
   "provenance": []
  },
  "kernelspec": {
   "display_name": "Python 3",
   "language": "python",
   "name": "python3"
  },
  "language_info": {
   "codemirror_mode": {
    "name": "ipython",
    "version": 3
   },
   "file_extension": ".py",
   "mimetype": "text/x-python",
   "name": "python",
   "nbconvert_exporter": "python",
   "pygments_lexer": "ipython3",
   "version": "3.6.7"
  }
 },
 "nbformat": 4,
 "nbformat_minor": 1
}
